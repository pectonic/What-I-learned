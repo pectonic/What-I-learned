{
 "cells": [
  {
   "cell_type": "markdown",
   "metadata": {},
   "source": [
    "# Class method ve static method"
   ]
  },
  {
   "cell_type": "code",
   "execution_count": 12,
   "metadata": {},
   "outputs": [],
   "source": [
    "class Employee:\n",
    "    raise_percent = 1.05\n",
    "    num_emp = 0\n",
    "    def __init__(self, name, last, age, pay):\n",
    "        self.name = name\n",
    "        self.last = last\n",
    "        self.age = age\n",
    "        self.pay = pay\n",
    "        Employee.num_emp += 1\n",
    "\n",
    "    def apply_raise(self):\n",
    "        self.pay = self.pay * self.raise_percent\n",
    "\n",
    "    @classmethod # oynak\n",
    "    def set_raise(cls, amount):\n",
    "        cls.raise_percent = amount\n",
    "\n",
    "    @classmethod\n",
    "    def from_string(cls, emp_str):\n",
    "        name, last, age, pay = emp_str.split(\"-\")\n",
    "        return cls(name, last, int(age), float(pay))\n",
    "\n",
    "    @staticmethod # sabit\n",
    "    def holiday_print(day):\n",
    "        if day == \"weekend\":\n",
    "            print(\"This is an off day\")\n",
    "        else:\n",
    "            print(\"This is not an off day\")"
   ]
  },
  {
   "cell_type": "code",
   "execution_count": 14,
   "metadata": {},
   "outputs": [
    {
     "name": "stdout",
     "output_type": "stream",
     "text": [
      "This is an off day\n"
     ]
    }
   ],
   "source": [
    "emp1_str = \"Can-Aydin-25-5000\"\n",
    "emp1 = Employee.from_string(emp1_str)\n",
    "emp1.pay\n",
    "emp1.holiday_print(\"weekend\")\n"
   ]
  },
  {
   "cell_type": "code",
   "execution_count": 16,
   "metadata": {},
   "outputs": [
    {
     "name": "stdout",
     "output_type": "stream",
     "text": [
      "This is not an off day\n"
     ]
    }
   ],
   "source": [
    "Employee.holiday_print(\"calis laa\")"
   ]
  }
 ],
 "metadata": {
  "interpreter": {
   "hash": "b747a7223ac2e4836cac49c6f82904bcf899b9f39dd0cf42ba6fa7527f4a57b1"
  },
  "kernelspec": {
   "display_name": "Python 3.10.0 64-bit",
   "language": "python",
   "name": "python3"
  },
  "language_info": {
   "codemirror_mode": {
    "name": "ipython",
    "version": 3
   },
   "file_extension": ".py",
   "mimetype": "text/x-python",
   "name": "python",
   "nbconvert_exporter": "python",
   "pygments_lexer": "ipython3",
   "version": "3.10.0"
  },
  "orig_nbformat": 4
 },
 "nbformat": 4,
 "nbformat_minor": 2
}
