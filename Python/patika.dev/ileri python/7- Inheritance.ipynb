{
 "cells": [
  {
   "cell_type": "markdown",
   "metadata": {},
   "source": [
    "# Inheritance belirttiğimiz başka classlardaki method ve attribute'lara erişmemizi sağlar\n"
   ]
  },
  {
   "cell_type": "code",
   "execution_count": 11,
   "metadata": {},
   "outputs": [],
   "source": [
    "class Employee:\n",
    "    raise_percent = 1.05\n",
    "    num_emp = 0\n",
    "    def __init__(self, name, last, age, pay):\n",
    "        self.name = name\n",
    "        self.last = last\n",
    "        self.age = age\n",
    "        self.pay = pay\n",
    "        Employee.num_emp += 1\n",
    "    def apply_raise(self):\n",
    "        self.pay = self.pay * self.raise_percent"
   ]
  },
  {
   "cell_type": "code",
   "execution_count": 15,
   "metadata": {},
   "outputs": [
    {
     "data": {
      "text/plain": [
       "'Can'"
      ]
     },
     "execution_count": 15,
     "metadata": {},
     "output_type": "execute_result"
    }
   ],
   "source": [
    "class IT(Employee):\n",
    "    pass\n",
    "\n",
    "# IT'nin içine hiçbir şey yazmasak da, Employee'nin özelliklerine erişimi var\n",
    "# IT nin içerisinde bulamazsa aradığını, inherit ettiği yere gidip bakacak. IT nin içerisinde _init_ methodu yok, o yüzden gidip Employee class ina bakacak\n",
    "it_1 = IT(\"Can\",\"Aydin\",\"20\",3000)\n",
    "it_1.name"
   ]
  },
  {
   "cell_type": "code",
   "execution_count": 16,
   "metadata": {},
   "outputs": [],
   "source": [
    "# Diyelim ki IT'cilere yeni bir özellik olarak hangi programlama dili bildiklerini de eklemek istiyorum\n",
    "class IT(Employee):\n",
    "    raise_percent = 1.2\n",
    "    def _init_(self, name, last, age, pay, lang):\n",
    "        self.name = name\n",
    "        self.last = last \n",
    "        self.age = age\n",
    "        self.pay = pay\n",
    "        self.lang = lang\n",
    "\n",
    "\n",
    "# Bu bosa kod yazmak oluyor amk                   "
   ]
  },
  {
   "cell_type": "code",
   "execution_count": 17,
   "metadata": {},
   "outputs": [],
   "source": [
    "# super() uzerinden initleri cagirdim POG\n",
    "class IT(Employee):\n",
    "    raise_percent = 1.2\n",
    "    def __init__(self, name, last, age, pay, lang):\n",
    "        super().__init__(name, last, age, pay)\n",
    "        self.lang = lang"
   ]
  },
  {
   "cell_type": "code",
   "execution_count": null,
   "metadata": {},
   "outputs": [],
   "source": []
  }
 ],
 "metadata": {
  "interpreter": {
   "hash": "b747a7223ac2e4836cac49c6f82904bcf899b9f39dd0cf42ba6fa7527f4a57b1"
  },
  "kernelspec": {
   "display_name": "Python 3.10.0 64-bit",
   "language": "python",
   "name": "python3"
  },
  "language_info": {
   "codemirror_mode": {
    "name": "ipython",
    "version": 3
   },
   "file_extension": ".py",
   "mimetype": "text/x-python",
   "name": "python",
   "nbconvert_exporter": "python",
   "pygments_lexer": "ipython3",
   "version": "3.10.0"
  },
  "orig_nbformat": 4
 },
 "nbformat": 4,
 "nbformat_minor": 2
}
