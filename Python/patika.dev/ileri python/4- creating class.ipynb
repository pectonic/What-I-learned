{
 "cells": [
  {
   "cell_type": "markdown",
   "metadata": {},
   "source": [
    "# class dedigin bir cok ozelligi olan fonksiyon gibidir "
   ]
  },
  {
   "cell_type": "code",
   "execution_count": 2,
   "metadata": {},
   "outputs": [],
   "source": [
    "class ogrenci:\n",
    "    def __init__(self, isim, soyisim, numara, sinif): # Class'ların içinde tanımlanan variable'lara ATTRIBUTE denir\n",
    "        self.isim = isim\n",
    "        self.soyisim = soyisim\n",
    "        self.numara = numara\n",
    "        self.sinif = sinif\n",
    "\n",
    "    def print_student(self): # Class'ların içinde tanımlanan fonksiyonlara  METHOD denir\n",
    "        print(f\"Ogrenci adi: {self.isim} soyadi: {self.soyisim} numarasi: {self.numara} sinif: {self.sinif}\")"
   ]
  },
  {
   "cell_type": "code",
   "execution_count": 4,
   "metadata": {},
   "outputs": [],
   "source": [
    "studen1 = ogrenci(\"Can Ahmet\",\"Aydin\",9999,12)"
   ]
  },
  {
   "cell_type": "code",
   "execution_count": 5,
   "metadata": {},
   "outputs": [
    {
     "name": "stdout",
     "output_type": "stream",
     "text": [
      "Ogrenci adi: Can Ahmet soyadi: Aydin numarasi: 9999 sinif: 12\n"
     ]
    }
   ],
   "source": [
    "ogrenci.print_student(studen1)"
   ]
  }
 ],
 "metadata": {
  "interpreter": {
   "hash": "b747a7223ac2e4836cac49c6f82904bcf899b9f39dd0cf42ba6fa7527f4a57b1"
  },
  "kernelspec": {
   "display_name": "Python 3.10.0 64-bit",
   "language": "python",
   "name": "python3"
  },
  "language_info": {
   "codemirror_mode": {
    "name": "ipython",
    "version": 3
   },
   "file_extension": ".py",
   "mimetype": "text/x-python",
   "name": "python",
   "nbconvert_exporter": "python",
   "pygments_lexer": "ipython3",
   "version": "3.10.0"
  },
  "orig_nbformat": 4
 },
 "nbformat": 4,
 "nbformat_minor": 2
}
