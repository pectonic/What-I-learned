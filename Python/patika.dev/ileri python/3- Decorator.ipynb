{
 "cells": [
  {
   "cell_type": "markdown",
   "metadata": {},
   "source": [
    "\n",
    "# Başka bir fonksiyonu input olarak alıp, aldığı fonksiyonu değiştirmeden, ona yeni fonksiyonaliteler ekleyen yapılardır."
   ]
  },
  {
   "cell_type": "code",
   "execution_count": 27,
   "metadata": {},
   "outputs": [],
   "source": [
    "def print_func31():\n",
    "    print(\"LA GARDAS\")\n",
    "\n",
    "def decorator_func(func):\n",
    "    def wrapper_func():\n",
    "        return func()\n",
    "    return wrapper_func\n",
    "\n",
    "deneme_print = decorator_func(print_func31)"
   ]
  },
  {
   "cell_type": "code",
   "execution_count": 15,
   "metadata": {},
   "outputs": [
    {
     "name": "stdout",
     "output_type": "stream",
     "text": [
      "LA GARDAS\n"
     ]
    }
   ],
   "source": [
    "deneme_print()"
   ]
  },
  {
   "cell_type": "markdown",
   "metadata": {},
   "source": [
    "# Var olan fonksiyona fonksiyonu değiştirmeden yeni bir davranış kazandıracağız"
   ]
  },
  {
   "cell_type": "code",
   "execution_count": 29,
   "metadata": {},
   "outputs": [],
   "source": [
    "def decorator_func (func):\n",
    "    def wrapper_func ():\n",
    "        print(f\"the name of the function is {func.__name__}\")\n",
    "        return func ()\n",
    "    return wrapper_func"
   ]
  },
  {
   "cell_type": "code",
   "execution_count": 30,
   "metadata": {},
   "outputs": [
    {
     "name": "stdout",
     "output_type": "stream",
     "text": [
      "the name of the function is print_func31\n",
      "LA GARDAS\n"
     ]
    }
   ],
   "source": [
    "decorator_print = decorator_func(print_func31)\n",
    "decorator_print()"
   ]
  },
  {
   "cell_type": "code",
   "execution_count": 43,
   "metadata": {},
   "outputs": [
    {
     "name": "stdout",
     "output_type": "stream",
     "text": [
      "the name of the function is func\n",
      "name: sadsadsa number: 213\n"
     ]
    }
   ],
   "source": [
    "\n",
    "def decorator_func(func):\n",
    "    def wrapper_func(*args):\n",
    "        print(f\"the name of the function is {func.__name__}\")\n",
    "        return func(*args)\n",
    "    return wrapper_func\n",
    "    \n",
    "@decorator_func \n",
    "def func(name,number):\n",
    "    print(f\"name: {name} number: {number}\")\n",
    "\n",
    "func(\"sadsadsa\",213)"
   ]
  }
 ],
 "metadata": {
  "interpreter": {
   "hash": "b747a7223ac2e4836cac49c6f82904bcf899b9f39dd0cf42ba6fa7527f4a57b1"
  },
  "kernelspec": {
   "display_name": "Python 3.10.0 64-bit",
   "language": "python",
   "name": "python3"
  },
  "language_info": {
   "codemirror_mode": {
    "name": "ipython",
    "version": 3
   },
   "file_extension": ".py",
   "mimetype": "text/x-python",
   "name": "python",
   "nbconvert_exporter": "python",
   "pygments_lexer": "ipython3",
   "version": "3.10.0"
  },
  "orig_nbformat": 4
 },
 "nbformat": 4,
 "nbformat_minor": 2
}
